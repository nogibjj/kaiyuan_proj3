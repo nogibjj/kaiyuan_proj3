{
 "cells": [
  {
   "cell_type": "code",
   "execution_count": 33,
   "metadata": {},
   "outputs": [],
   "source": [
    "import sqlite3"
   ]
  },
  {
   "cell_type": "code",
   "execution_count": 34,
   "metadata": {},
   "outputs": [],
   "source": [
    "conn = sqlite3.connect('vegetables.db')"
   ]
  },
  {
   "cell_type": "code",
   "execution_count": 35,
   "metadata": {},
   "outputs": [],
   "source": [
    "c = conn.cursor()"
   ]
  },
  {
   "cell_type": "code",
   "execution_count": 36,
   "metadata": {},
   "outputs": [
    {
     "name": "stdout",
     "output_type": "stream",
     "text": [
      "[('onion', 'winter', 'jan', 15), ('tomato', 'winter', 'jan', 15)]\n"
     ]
    }
   ],
   "source": [
    "c.execute(\"\"\" CREATE TABLE vegetables(\n",
    "               vegetable text,\n",
    "                season text,\n",
    "                month text,\n",
    "                temperature integer\n",
    "                )\"\"\")\n",
    "\n",
    "c.execute(\"INSERT INTO vegetables VALUES ('onion', 'winter', 'jan', '15')\")\n",
    "c.execute(\"INSERT INTO vegetables VALUES ('potato', 'summer', 'apr', '35')\")\n",
    "c.execute(\"INSERT INTO vegetables VALUES ('tomato', 'winter', 'jan', '15')\")\n",
    "\n",
    "c.execute(\"SELECT * FROM vegetables WHERE month = 'jan'\")\n",
    "\n",
    "print(c.fetchall())\n",
    "\n",
    "conn.commit()\n",
    "\n",
    "conn.close()"
   ]
  }
 ],
 "metadata": {
  "kernelspec": {
   "display_name": "Python 3.10.4 64-bit",
   "language": "python",
   "name": "python3"
  },
  "language_info": {
   "codemirror_mode": {
    "name": "ipython",
    "version": 3
   },
   "file_extension": ".py",
   "mimetype": "text/x-python",
   "name": "python",
   "nbconvert_exporter": "python",
   "pygments_lexer": "ipython3",
   "version": "3.10.4"
  },
  "orig_nbformat": 4,
  "vscode": {
   "interpreter": {
    "hash": "3ad933181bd8a04b432d3370b9dc3b0662ad032c4dfaa4e4f1596c548f763858"
   }
  }
 },
 "nbformat": 4,
 "nbformat_minor": 2
}
